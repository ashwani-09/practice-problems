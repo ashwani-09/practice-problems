{
 "cells": [
  {
   "cell_type": "markdown",
   "source": "Strings\n=======",
   "metadata": {
    "cell_id": "326b2058-a693-44e0-816e-6e488dca50af",
    "tags": [],
    "deepnote_cell_type": "markdown",
    "deepnote_cell_height": 81.953125
   }
  },
  {
   "cell_type": "markdown",
   "source": "### Problems",
   "metadata": {
    "cell_id": "85b3ddaf-3233-4513-b609-4a5a6b397b13",
    "tags": [],
    "is_collapsed": false,
    "deepnote_cell_type": "text-cell-h3"
   }
  },
  {
   "cell_type": "code",
   "metadata": {
    "cell_id": "ca7177ad-1af5-45ce-9cf9-d85d0d8dee2e",
    "tags": [],
    "deepnote_to_be_reexecuted": false,
    "source_hash": "1fe1fc60",
    "execution_start": 1646655222641,
    "execution_millis": 2,
    "owner_user_id": "d60818c3-2f78-44df-b56d-5e4dfd1c7847",
    "deepnote_cell_type": "code",
    "deepnote_cell_height": 514.109375,
    "deepnote_output_heights": [
     21.171875
    ]
   },
   "source": "#4\n# Multiply two strings\n# Given two numbers as strings s1 and s2. Calculate their Product.\n\nclass Solution:\n    def multiplyStrings(self, s1, s2):\n        sign_1 = -1 if s1.startswith(\"-\") else 1\n        sign_2 = -1 if s2.startswith(\"-\") else 1\n\n        start_1 = 1 if sign_1 == -1 else 0\n        start_2 = 1 if sign_2 == -1 else 0\n\n        n1 = len(s1)\n        n2 = len(s2)\n\n        for i in range(start_1, n1):\n            for j in range(start_2, n2):\n                \n\n        return -1\n\ns = Solution()\ns.multiplyStrings(\"22\", \"33\")",
   "execution_count": null,
   "outputs": [
    {
     "output_type": "execute_result",
     "execution_count": 84,
     "data": {
      "text/plain": "-1"
     },
     "metadata": {}
    }
   ]
  },
  {
   "cell_type": "code",
   "metadata": {
    "cell_id": "054c3b03-a102-4cf4-bff6-1fb008d87680",
    "tags": [],
    "deepnote_to_be_reexecuted": false,
    "source_hash": "3f0309d6",
    "execution_start": 1646654775129,
    "execution_millis": 539,
    "deepnote_cell_type": "code",
    "deepnote_cell_height": 604.109375,
    "deepnote_output_heights": [
     21.171875
    ]
   },
   "source": "#3\n# Implement Atoi \n# Given string input, convert to integer and return\n\nclass Solution:\n    def atoi(self, string):\n        sign = -1 if string.startswith(\"-\") else 1\n        start = 1 if sign == -1 else 0\n\n        n = len(string)\n\n        i = start\n        while (i < n):\n            if not \"0\" <= string[i] <= \"9\":\n                return -1\n            i += 1\n\n        num = 0\n        i = start\n        while (i < n):\n            elm = string[i]\n            num += int(elm) * (10 ** (n - i - 1))\n            i += 1\n\n        return num * sign\n\ns = Solution()\ns.atoi(\"-12\")",
   "execution_count": null,
   "outputs": [
    {
     "output_type": "execute_result",
     "execution_count": 83,
     "data": {
      "text/plain": "-12"
     },
     "metadata": {}
    }
   ]
  },
  {
   "cell_type": "code",
   "metadata": {
    "cell_id": "0f9e56a1-28c3-441d-ada7-d6b3c1840bd7",
    "tags": [],
    "deepnote_to_be_reexecuted": false,
    "source_hash": "3f737710",
    "execution_start": 1646653563921,
    "execution_millis": 12,
    "deepnote_cell_type": "code",
    "deepnote_cell_height": 622.109375,
    "deepnote_output_heights": [
     21.171875
    ]
   },
   "source": "#2 - Medium\n# Validate an IP Address\n\ndef isValid(s):\n    parts = s.split(\".\")\n    if len(parts) != 4:\n        return 0\n\n    for part in parts:\n        if ((part.lstrip(\"0\") != part) and len(part) > 1) or (len(part) == 0):\n            return 0\n\n        num = 0\n        num_str = list(part)[::-1]\n        while num_str:\n            elm = num_str.pop()\n            try:\n                elm = int(elm)\n            except:\n                return 0\n            num += elm * (10 ** len(num_str))\n            # print(num)\n\n        if not 0 <= num <= 255:\n            return 0\n\n    return 1\n\nisValid(\"0.0.255.3\")",
   "execution_count": null,
   "outputs": [
    {
     "output_type": "execute_result",
     "execution_count": 55,
     "data": {
      "text/plain": "1"
     },
     "metadata": {}
    }
   ]
  },
  {
   "cell_type": "code",
   "metadata": {
    "tags": [],
    "cell_id": "4b757f14-ee7b-4351-85da-dca96575998a",
    "deepnote_to_be_reexecuted": false,
    "source_hash": "a5e44e89",
    "execution_start": 1646650944844,
    "execution_millis": 430,
    "deepnote_cell_type": "code",
    "deepnote_cell_height": 922.84375,
    "deepnote_output_heights": [
     null,
     21.171875
    ]
   },
   "source": "#1 - Easy\n# Parenthesis Checker\n\nclass Solution:\n    \n    #Function to check if brackets are balanced or not.\n    def ispar(self, x):\n        complements = {\n            \")\" : \"(\",\n            \"}\" : \"{\",\n            \"]\" : \"[\"\n        }\n        stack = []\n        x = list(x)[::-1]\n        while x:\n            elm = x.pop()\n\n            if not stack and elm in complements:\n                return False\n\n            if (not stack) or (elm not in complements):\n                stack.append(elm)\n\n            elif complements[elm] == stack[-1]:\n                stack.pop()\n\n            else:\n                return False\n\n            print(stack)\n\n        if stack:\n            return False\n        else:\n            return True\n\n\ns = Solution()\ns.ispar(\"{}{(}))}\")\n",
   "execution_count": null,
   "outputs": [
    {
     "name": "stdout",
     "text": "['{']\n[]\n['{']\n['{', '(']\n",
     "output_type": "stream"
    },
    {
     "output_type": "execute_result",
     "execution_count": 24,
     "data": {
      "text/plain": "False"
     },
     "metadata": {}
    }
   ]
  },
  {
   "cell_type": "code",
   "metadata": {
    "cell_id": "aa4e7f2c-027a-483b-b4c2-c3e8dcd449a1",
    "tags": [],
    "deepnote_cell_type": "code",
    "deepnote_cell_height": 65.953125
   },
   "source": "",
   "execution_count": null,
   "outputs": []
  },
  {
   "cell_type": "markdown",
   "source": "<a style='text-decoration:none;line-height:16px;display:flex;color:#5B5B62;padding:10px;justify-content:end;' href='https://deepnote.com?utm_source=created-in-deepnote-cell&projectId=8e097a29-da9c-4735-a72e-d65153b8d3ef' target=\"_blank\">\n<img alt='Created in deepnote.com' style='display:inline;max-height:16px;margin:0px;margin-right:7.5px;' src='data:image/svg+xml;base64,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' > </img>\nCreated in <span style='font-weight:600;margin-left:4px;'>Deepnote</span></a>",
   "metadata": {
    "tags": [],
    "created_in_deepnote_cell": true,
    "deepnote_cell_type": "markdown"
   }
  }
 ],
 "nbformat": 4,
 "nbformat_minor": 2,
 "metadata": {
  "orig_nbformat": 2,
  "deepnote": {
   "is_reactive": false
  },
  "deepnote_notebook_id": "31fcdba7-1efc-4bfa-b19f-e570bee9fb87",
  "deepnote_execution_queue": []
 }
}