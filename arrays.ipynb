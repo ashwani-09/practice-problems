{
 "cells": [
  {
   "cell_type": "markdown",
   "source": "Arrays\n======",
   "metadata": {
    "cell_id": "8682f2e0-19d2-45f3-9428-d42e5934861b",
    "tags": [],
    "deepnote_cell_type": "markdown",
    "deepnote_cell_height": 82
   }
  },
  {
   "cell_type": "markdown",
   "source": "### Helper Functions &amp; Imports",
   "metadata": {
    "cell_id": "b1319991-1ef6-4d84-858a-267a4d576e2b",
    "tags": [],
    "is_collapsed": false,
    "deepnote_cell_type": "text-cell-h3"
   }
  },
  {
   "cell_type": "code",
   "metadata": {
    "cell_id": "00003-73e94f54-3103-4681-bafe-2e38d9fdc2ee",
    "deepnote_to_be_reexecuted": false,
    "source_hash": "124e505d",
    "execution_start": 1649603178524,
    "execution_millis": 1,
    "deepnote_cell_type": "code",
    "deepnote_cell_height": 171
   },
   "source": "from pprint import pprint\ndef string_to_list(space_sep_input_str, dtype=\"int\"):\n    if dtype == \"int\":\n        return [int(x) for x in space_sep_input_str.split(\" \")]\n    else:\n        return space_sep_input_str.split(\" \")",
   "outputs": [],
   "execution_count": null
  },
  {
   "cell_type": "markdown",
   "source": "### Problems",
   "metadata": {
    "cell_id": "4c6b3090-71e5-4fa1-a292-c2942d62f7e8",
    "tags": [],
    "is_collapsed": false,
    "deepnote_cell_type": "text-cell-h3"
   }
  },
  {
   "cell_type": "code",
   "metadata": {
    "cell_id": "d5b9c6460e694d38928aa3566476cbf7",
    "tags": [],
    "deepnote_to_be_reexecuted": false,
    "source_hash": "e6e79940",
    "execution_start": 1649603826458,
    "execution_millis": 7,
    "owner_user_id": "d60818c3-2f78-44df-b56d-5e4dfd1c7847",
    "deepnote_cell_type": "code",
    "deepnote_cell_height": 1259
   },
   "source": "#18\n\nclass Solution:\n    def minJumps(self, arr, n):\n        \n        print(arr)\n        first = arr[0]\n\n        if n > 1 and first == 0:\n            return 0\n        \n        if n == 1 and first > 0:\n            return 0\n        elif n <= first:\n            return 1\n        else:\n            jumps = min([self.minJumps(arr[i:], len(arr[i:])) for i in range(1, first + 1)])\n            if jumps == -1:\n                return -1\n            else:\n                return 1 + jumps\n\narrays = [\n    string_to_list(\"2 3 1 1 2 4 2 0 1 1\"),\n    # [1, 3, 5, 8, 9, 2, 6, 7, 6, 8, 9],\n    # [1, 1, 0, 2, 3],\n    # [1, 0, 2],\n    [0, 2]\n]\ns = Solution()\nfor arr in arrays:\n    print(s.minJumps(arr, len(arr)))",
   "outputs": [
    {
     "name": "stdout",
     "text": "[2, 3, 1, 1, 2, 4, 2, 0, 1, 1]\n[3, 1, 1, 2, 4, 2, 0, 1, 1]\n[1, 1, 2, 4, 2, 0, 1, 1]\n[1, 2, 4, 2, 0, 1, 1]\n[2, 4, 2, 0, 1, 1]\n[4, 2, 0, 1, 1]\n[2, 0, 1, 1]\n[0, 1, 1]\n[1, 1]\n[1]\n[0, 1, 1]\n[1, 1]\n[1]\n[1]\n[2, 0, 1, 1]\n[0, 1, 1]\n[1, 1]\n[1]\n[1, 2, 4, 2, 0, 1, 1]\n[2, 4, 2, 0, 1, 1]\n[4, 2, 0, 1, 1]\n[2, 0, 1, 1]\n[0, 1, 1]\n[1, 1]\n[1]\n[0, 1, 1]\n[1, 1]\n[1]\n[1]\n[2, 0, 1, 1]\n[0, 1, 1]\n[1, 1]\n[1]\n[2, 4, 2, 0, 1, 1]\n[4, 2, 0, 1, 1]\n[2, 0, 1, 1]\n[0, 1, 1]\n[1, 1]\n[1]\n[0, 1, 1]\n[1, 1]\n[1]\n[1]\n[2, 0, 1, 1]\n[0, 1, 1]\n[1, 1]\n[1]\n[1, 1, 2, 4, 2, 0, 1, 1]\n[1, 2, 4, 2, 0, 1, 1]\n[2, 4, 2, 0, 1, 1]\n[4, 2, 0, 1, 1]\n[2, 0, 1, 1]\n[0, 1, 1]\n[1, 1]\n[1]\n[0, 1, 1]\n[1, 1]\n[1]\n[1]\n[2, 0, 1, 1]\n[0, 1, 1]\n[1, 1]\n[1]\n4\n[0, 2]\n0\n",
     "output_type": "stream"
    }
   ],
   "execution_count": null
  },
  {
   "cell_type": "code",
   "metadata": {
    "cell_id": "b45007c9-9c33-4de9-959f-1173c352fb89",
    "tags": [],
    "deepnote_to_be_reexecuted": false,
    "source_hash": "481c9cc6",
    "execution_start": 1649573080927,
    "execution_millis": 3001437179,
    "deepnote_cell_type": "code",
    "deepnote_cell_height": 441
   },
   "source": "#17\n# Merge two sorted arrays in one final array without using extra space\n# Example: A = [0, 2, 4, 6]; B = [1, 3, 5, 7]\n# Since we can't use extra space, modify A & B\n# A = [0, 1, 2, 3]; B = [4, 5, 6, 7]\n\n# class Solution:\n#     def merge(self, arr1, arr2, n, m):\n#         # O(MxN) Time; O(1) Space\n        \n#         i = 0\n#         j = 0\n#         while (i < n) & (j < m):\n#             while arr1[]\n            \n#             j = 0\n        \n# arr1 = [1, 3, 5, 7]\n# arr2 = [0, 2, 6, 8, 9]\n# s = Solution()\n# s.merge(arr1, arr2, len(arr1), len(arr2))",
   "execution_count": null,
   "outputs": []
  },
  {
   "cell_type": "code",
   "metadata": {
    "cell_id": "00004-89cc47e8-6047-4c9f-86c5-47e07d3afab0",
    "deepnote_to_be_reexecuted": false,
    "source_hash": "62772274",
    "execution_start": 1646571643744,
    "execution_millis": 2,
    "deepnote_cell_type": "code",
    "deepnote_cell_height": 1162,
    "deepnote_output_heights": [
     21
    ]
   },
   "source": "#20\n# The Celebrity Problem \n\nclass Solution:\n    def celebrity_on2(self, M, n):\n        \"\"\"O(n^2) time; O(n) space\n        Step 1: Build an adjacency list (dict/hash) of all followers\n        Step 2: Filter out members who are known by n-1 others\n        Step 3: For each filtered member, check whether they also know their follower\n        \"\"\"\n        celeb_map = {}\n        for i in range(n):\n            for j in range(n):\n                if M[i][j] == 1:\n                    if j not in celeb_map:\n                        celeb_map[j] = [i]\n                    else:\n                        celeb_map[j].append(i)\n                      \n        #print(celeb_map)\n        # filter out people who are know by n - 1 others\n        # and check whether they know the people who know them\n        for i in celeb_map:\n            if len(celeb_map[i]) == n - 1:\n                is_celeb = True\n                #print(f\"Checking {celeb_map[i]} at index {i} \")\n                for j in celeb_map[i]:\n                    #print(j)\n                    if j in celeb_map:\n                        if i in celeb_map[j]:\n                            #print(f\"{i} is in {celeb_map[j]}\")\n                            is_celeb = False\n                            continue\n            if is_celeb:\n                return i\n            \n        return -1\n\n# M = [\n#     [0, 1, 0, 1],\n#     [0, 0, 0, 0],\n#     [0, 1, 0, 0],\n#     [0, 1, 0, 0]\n# ]\n\n# M = [\n#     [0, 1],\n#     [1, 0]\n# ]\n\nM = [\n    [0, 1, 1, 0],\n    [0, 0, 0, 1],\n    [1, 1, 0, 1],\n    [1, 1, 1, 0]\n]\ns = Solution()\ns.celebrity_on2(M, len(M[0]))\n",
   "execution_count": null,
   "outputs": [
    {
     "output_type": "execute_result",
     "execution_count": 3,
     "data": {
      "text/plain": "-1"
     },
     "metadata": {}
    }
   ]
  },
  {
   "cell_type": "code",
   "metadata": {
    "cell_id": "00005-22008ecc-d1a2-49de-b270-80cc477d7023",
    "deepnote_to_be_reexecuted": false,
    "source_hash": "8db36ed4",
    "execution_start": 1646571643779,
    "execution_millis": 2,
    "deepnote_cell_type": "code",
    "deepnote_cell_height": 1594
   },
   "source": "#19\n# Smallest Positive missing number\n# You are given an array arr[] of N integers\n# including 0. The task is to find the smallest\n# positive number missing from the array.\n\nclass Solution:\n    def missingNumber(self, arr, n):\n        # Time: O(n); Space: O(1)\n        # Logic\n        # Step 1: Rearrange the array such that positive and negative elements are grouped\n        # Step 2: taking only positive sub-array, convert the index-value of every element to negative\n        # whichever index is left positive is missing\n        \n        # a lot of re-indexing to i-1/i+1 because the solution follows indexing from 1\n        \n        def rearrange(arr, n):\n            \"\"\"[6, 5, -1, 3, 0, -2] --> [-1, -2, 6, 3, 0, 5]\n            \"\"\"\n            j = 0\n            for i in range(n):\n                if arr[i] <= 0:\n                    arr[i], arr[j] = arr[j], arr[i]\n                    j += 1\n            return j\n        \n        def find_missing_num(subarray, sub_size):\n            for i in range(sub_size):\n                if (abs(subarray[i]) <= sub_size) and (subarray[abs(subarray[i]) - 1] > 0):\n                        subarray[abs(subarray[i]) - 1] *= -1  \n                        \n            for i in range(sub_size):\n                if subarray[i] > 0:\n                    return i + 1\n\n            return sub_size + 1\n        \n        pos_index = rearrange(arr, n)\n        missing_num = find_missing_num(arr[pos_index:], n - pos_index)\n        return missing_num\n        \n        \n    def missingNumber_using_hash(self, arr, n):\n        # Time: O(n); Space: O(n)\n        max_ = 0\n        min_ = float(\"inf\")\n        \n        for num in arr:\n            if num > 0:\n                if num > max_:\n                    max_ = num\n                \n                if num < min_:\n                    min_ = num\n                    \n        if min_ > 1:\n            return 1\n        \n        lookup_set = set(arr)\n        i = 1\n        while (i <= max_ + 1):\n            if i not in lookup_set:\n                return i\n            i += 1\n        \ninputs = [\n    [0, -10, 1, 2, 3, -20]\n    , [6, 5, -1, 3, 0, -2]\n    , [1, 2, 3, 4, 5]\n    , string_to_list(\"0 1 2 -4 -6 4 6 3\")\n    ]\ns = Solution()\nfor arr in inputs:\n    print(s.missingNumber(arr, len(arr)))\n    print()\n",
   "execution_count": null,
   "outputs": [
    {
     "name": "stdout",
     "text": "4\n\n1\n\n6\n\n5\n\n",
     "output_type": "stream"
    }
   ]
  },
  {
   "cell_type": "code",
   "metadata": {
    "cell_id": "00007-f015260c-3959-42ae-92da-e16da8dfddb1",
    "deepnote_to_be_reexecuted": false,
    "source_hash": "912364e1",
    "execution_start": 1646571643780,
    "execution_millis": 2,
    "deepnote_cell_type": "code",
    "deepnote_cell_height": 507
   },
   "source": "#1\n# Kadane's Algorithm\n# Maximum sum contiguous subarray\nclass Solution:\n    def maxSubArraySum(self, arr, N=1):\n        N = len(arr)\n        final_sum_ = -1 * float('inf')\n        subarray_sum = 0\n        ##Your code here\n        for i in range(0, N):\n            subarray_sum += arr[i]\n            \n            if subarray_sum > final_sum_:\n                final_sum_ = subarray_sum\n                \n            if subarray_sum < 0:\n                subarray_sum = 0\n\n        return final_sum_\n\n# print(Solution().maxSubArraySum([-47, 43, 94, -94, -93, -59, 31, -86]))\n# print(Solution().maxSubArraySum([1, 2, 3, -2, 5]))\nprint(Solution().maxSubArraySum([-4, -3, -1, -3]))",
   "execution_count": null,
   "outputs": [
    {
     "name": "stdout",
     "text": "-1\n",
     "output_type": "stream"
    }
   ]
  },
  {
   "cell_type": "code",
   "metadata": {
    "cell_id": "00008-31556a3f-9217-4a31-990d-2b0bd795981d",
    "deepnote_to_be_reexecuted": false,
    "source_hash": "e1b7956c",
    "execution_start": 1646571643790,
    "execution_millis": 1,
    "deepnote_cell_type": "code",
    "deepnote_cell_height": 579
   },
   "source": "#2\n## https://practice.geeksforgeeks.org/problems/minimize-the-heights3351\n## Minimize difference between height of towers\nclass Solution:\n    def getMinDiff(self, arr, n, k):\n        # code here\n        arr = sorted(arr)\n        diff_ = arr[-1] - arr[0]\n        shortest = arr[0] + k\n        longest = arr[n-1] - k\n        for i in range(0, n-1):\n            max_ = max(longest, arr[i]+k)\n            min_ = min(shortest, arr[i+1]-k)\n            if min_ < 0:\n                continue\n            if max_ - min_ < diff_:\n                diff_ = max_ - min_\n            \n        return diff_\n\n# print(Solution().getMinDiff([1, 5, 8, 10], 4, 2))\n# print(Solution().getMinDiff([3, 9, 12, 16, 20], 5, 3))\n# print(Solution().getMinDiff([2, 6, 3, 4, 7, 2, 10, 3, 2, 1], 10, 5))\nprint(Solution().getMinDiff([8, 1, 5, 4, 7, 5, 7, 9, 4, 6], 10, 5))\n\n\n#             print(max(longest, arr[i]+k), min(shortest, arr[i+1]-k), max(longest, arr[i]+k) - min(shortest, arr[i+1]-k))",
   "execution_count": null,
   "outputs": [
    {
     "name": "stdout",
     "text": "8\n",
     "output_type": "stream"
    }
   ]
  },
  {
   "cell_type": "code",
   "metadata": {
    "cell_id": "00009-1daabb18-ad7d-4172-9809-97a46deca4b3",
    "deepnote_to_be_reexecuted": false,
    "source_hash": "d65e1a7b",
    "execution_start": 1646571643839,
    "execution_millis": 6,
    "deepnote_cell_type": "code",
    "deepnote_cell_height": 255
   },
   "source": "#3\n# MissingNumber in an array ranging from 1 to N\n# Logic: sum of sequence from 1 to N\nclass Solution:\n    def MissingNumber(self,array,n):\n        # code here\n        return int(((n+1)*n/2) - sum(array))\n    \nprint(Solution().MissingNumber([6,1,2,8,3,4,7,10,5], 10))",
   "execution_count": null,
   "outputs": [
    {
     "name": "stdout",
     "text": "9\n",
     "output_type": "stream"
    }
   ]
  },
  {
   "cell_type": "code",
   "metadata": {
    "cell_id": "00010-43d5bc1a-75a7-4462-bd54-a0731946fc5b",
    "deepnote_to_be_reexecuted": false,
    "source_hash": "c80e386a",
    "execution_start": 1646571643840,
    "execution_millis": 5,
    "deepnote_cell_type": "code",
    "deepnote_cell_height": 795
   },
   "source": "#4\n## Sort an array of 0s, 1s, and 2s\n# https://safe.menlosecurity.com/https://users.monash.edu/~lloyd/tildeAlgDS/Sort/Flag/\nclass Solution:\n    def sort01(self, arr, n=0):\n        n = len(arr)\n        low, high = 0, n-1\n        \n        while low < high:\n            if arr[low] == 0:\n                low += 1\n            else:\n                arr[low], arr[high] = arr[high], arr[low]\n                high -= 1\n      \n        return arr\n    \n    def sort012(self, arr, n=0):\n        # code here\n        n = len(arr)\n        low, mid, high = 0, 0, n-1\n        \n        while mid <= high:\n            if arr[mid] == 0:\n                arr[low], arr[mid] = arr[mid], arr[low]\n                low += 1\n                mid +=1\n            elif arr[mid] == 1:\n                mid += 1\n            elif arr[mid] == 2:\n                arr[mid], arr[high] = arr[high], arr[mid]\n                high -= 1\n                \n        return arr\n            \n        \n    \nprint(Solution().sort012([2, 0, 2, 0, 0, 1, 2, 1, 2]))\n# print(Solution().sort01([0, 1, 0, 1, 1, 0, 1]))",
   "execution_count": null,
   "outputs": [
    {
     "name": "stdout",
     "text": "[0, 0, 0, 1, 1, 2, 2, 2, 2]\n",
     "output_type": "stream"
    }
   ]
  },
  {
   "cell_type": "code",
   "metadata": {
    "cell_id": "00011-e9691071-749e-4285-a07b-2cdceea40e00",
    "deepnote_to_be_reexecuted": false,
    "source_hash": "7c2daf85",
    "execution_start": 1646571643840,
    "execution_millis": 10,
    "deepnote_cell_type": "code",
    "deepnote_cell_height": 471
   },
   "source": "#5\n# Find duplicate numbers in an array\nclass Solution:\n    def duplicates(self, arr, n): \n        # code here\n        count_dict = {}\n        for num in arr:\n            if num in count_dict:\n                count_dict[num] += 1\n            else:\n                count_dict[num] = 1\n             \n        \n        result = [num for num, count_ in count_dict.items() if count_ > 1]\n        if not result:\n            return [-1]\n        else:\n            return result\n\n\nprint(Solution().duplicates([10, 10, 7, 7, 7, 4, 0, 5, 10, 5, 10], 2))",
   "execution_count": null,
   "outputs": [
    {
     "name": "stdout",
     "text": "[10, 7, 5]\n",
     "output_type": "stream"
    }
   ]
  },
  {
   "cell_type": "code",
   "metadata": {
    "cell_id": "00012-9c93a36d-89bb-4ee9-b855-249eccfe4e28",
    "deepnote_to_be_reexecuted": false,
    "source_hash": "3c92f668",
    "execution_start": 1646571643850,
    "execution_millis": 5,
    "deepnote_cell_type": "code",
    "deepnote_cell_height": 208,
    "deepnote_output_heights": [
     21
    ]
   },
   "source": "d_ = {}\nd_[5] = 1\nd_[1] = 1\nd_[3] = 2\nd_[5] += 1\n[num for num, _ in d_.items() if _ > 1]",
   "execution_count": null,
   "outputs": [
    {
     "output_type": "execute_result",
     "execution_count": 10,
     "data": {
      "text/plain": "[5, 3]"
     },
     "metadata": {}
    }
   ]
  },
  {
   "cell_type": "code",
   "metadata": {
    "cell_id": "00013-e742dad7-5fbd-4169-ae31-e6c8111c506b",
    "deepnote_to_be_reexecuted": false,
    "source_hash": "b0c29251",
    "execution_start": 1646571643908,
    "execution_millis": 0,
    "deepnote_cell_type": "code",
    "deepnote_cell_height": 1287
   },
   "source": "# Pick the last non-leaf node, i.e. (last_index-1)//2, and heapify every parent node in reverse node till root\n# Construction: O(nlogn)\n# Remove top element: log(n)\n# Insert new element: log(n)\n\nclass MinHeap():\n    def __init__(self, arr, size):\n        self.heap = arr\n        self.size = size\n        \n        last_non_leaf_node = self.last_non_leaf_node()\n        self.min_heapify(last_non_leaf_node)\n    \n    @staticmethod\n    def parent_index(i):\n        return (i - 1)//2\n    \n    @staticmethod\n    def left_index(i):\n        return 2 * i + 1\n    \n    @staticmethod\n    def right_index(i):\n        return 2 * i + 2\n    \n    def last_non_leaf_node(self):\n        return (self.size - 2) // 2\n    \n    def swap(self, i, j):\n        self.heap[i], self.heap[j] = self.heap[j], self.heap[i]\n    \n    # Create a binary tree at index i so that minimum element is at root\n    # and min_heapify the subtree again\n    def min_heapify(self, i):\n        while i >= 0:\n            # Both children exist\n            if self.right_index(i) <= self.size - 1:\n                if (self.heap[i] > self.heap[self.left_index(i)]) or (self.heap[i] > self.heap[self.right_index(i)]):\n                    if self.heap[self.left_index(i)] < self.heap[self.right_index(i)]:\n                        self.swap(i, self.left_index(i))\n                    else:\n                        self.swap(i, self.right_index(i))\n\n            # Only left child exists    \n            elif self.right_index(i) > self.size - 1:\n                if (self.heap[i] > self.heap[self.left_index(i)]):\n                    self.swap(i, self.left_index(i))\n            \n            # Heapify previous node now\n            i -= 1\n        return self.heap\n        \n    def get_min(self):\n        removed_value = self.heap[0]\n        self.swap(self.size - 1, 0)\n        self.heap = self.heap[:-1]\n        self.size -= 1\n        last_non_leaf_node = self.last_non_leaf_node()\n        self.min_heapify(last_non_leaf_node)\n        return removed_value\n    \n    def insert(self, value):\n        self.heap += [value]\n        self.size += 1\n        last_non_leaf_node = self.last_non_leaf_node()\n        _ = self.min_heapify(last_non_leaf_node)\n        return self.heap\n        ",
   "execution_count": null,
   "outputs": []
  },
  {
   "cell_type": "code",
   "metadata": {
    "cell_id": "00014-6eb985ae-48dd-4c71-8cbd-9d65ea190a23",
    "deepnote_to_be_reexecuted": false,
    "source_hash": "bf52d8e1",
    "execution_start": 1646571643909,
    "execution_millis": 2,
    "deepnote_cell_type": "code",
    "deepnote_cell_height": 154,
    "deepnote_output_heights": [
     21
    ]
   },
   "source": "heap = MinHeap([5, 4, 3, 2, 1, 0], 6)\nheap.insert(40)\n",
   "execution_count": null,
   "outputs": [
    {
     "output_type": "execute_result",
     "execution_count": 12,
     "data": {
      "text/plain": "[0, 1, 3, 2, 4, 5, 40]"
     },
     "metadata": {}
    }
   ]
  },
  {
   "cell_type": "code",
   "metadata": {
    "cell_id": "00015-2accb068-8d38-4197-a520-85760afe0a04",
    "deepnote_to_be_reexecuted": false,
    "source_hash": "4eda7d",
    "execution_start": 1646571643910,
    "execution_millis": 4,
    "deepnote_cell_type": "code",
    "deepnote_cell_height": 424,
    "deepnote_output_heights": [
     21
    ]
   },
   "source": "#6\nclass Solution:\n    def kthSmallest(self, arr, l, r, k):\n        '''\n        arr : given array\n        l : starting index of the array i.e 0\n        r : ending index of the array i.e size-1\n        k : find kth smallest element and return using this function\n        '''\n        min_heap = MinHeap(arr, r + 1)\n        min_heaparr = min_heap.heap\n        \n        for i in range(k-1):\n            _ = min_heap.get_min()\n            \n        return min_heap.get_min()\n        \nSolution().kthSmallest([7, 10, 4, 3, 20, 15], 0, 5, 3)",
   "execution_count": null,
   "outputs": [
    {
     "output_type": "execute_result",
     "execution_count": 13,
     "data": {
      "text/plain": "7"
     },
     "metadata": {}
    }
   ]
  },
  {
   "cell_type": "code",
   "metadata": {
    "cell_id": "00016-00c1aa3e-6efd-4571-9c9c-4f04938b925c",
    "deepnote_to_be_reexecuted": false,
    "source_hash": "9fc09454",
    "execution_start": 1646571643946,
    "execution_millis": 2,
    "deepnote_cell_type": "code",
    "deepnote_cell_height": 525
   },
   "source": "#7\n# Find duplicates in an array containing numbers from 0 to n-1\n# Logic: use the values in array as indexes and add len(array) to that index-value\n# 2 * O(n) -- O(n)\n\nclass Solution:\n    def duplicates(self, arr, n):\n        \n        for num in arr:\n            value = num % n    #If the number is already incemented, get back original value\n            arr[value] += n\n            \n        duplicates = []\n        for idx, num in enumerate(arr):\n            if num >= 2 * n:\n                duplicates.append(idx)\n        \n        if not duplicates:\n            return [-1]\n        else:\n            return duplicates\n    \n# print(Solution().duplicates([2,3,1,2,3], 5))\nprint(Solution().duplicates(string_to_list(\"17 27 11 23 14 29 17 24 3 6 18 8 18 16 29 11 24 5 0 1 28 3 28 4 13 7 7 27 10 21\"), 30))",
   "execution_count": null,
   "outputs": [
    {
     "name": "stdout",
     "text": "[3, 7, 11, 17, 18, 24, 27, 28, 29]\n",
     "output_type": "stream"
    }
   ]
  },
  {
   "cell_type": "code",
   "metadata": {
    "cell_id": "00017-b9b4a349-3601-4532-85d1-b4f26f7f8ef3",
    "deepnote_to_be_reexecuted": false,
    "source_hash": "3b54d336",
    "execution_start": 1646571643946,
    "execution_millis": 2,
    "deepnote_cell_type": "code",
    "deepnote_cell_height": 903
   },
   "source": "#8\n# Majority element -- occurs more n/2 times in array\n# Logic: Moore’s Voting Algorithm\n# 1. Find a candidate of majority element -- always returns a candidate if exists\n# 2. Check whether the candiate is actully majority element, bcoz step 1 would still return a value even when there's no majority elm\n\n# Time Complexity: O(n) find_candidate + O(n) check_majority = O(n)\n# Space Complexity: O(1) -- only needs count & current_majority_elm variables\n\nclass Solution:\n    def find_candidate(self, A):\n        count = 1\n        current_majority_elm = A[0]\n        for num in A:\n            if num == current_majority_elm:\n                count += 1\n            else:\n                count -= 1\n                \n            if count == 0:\n                current_majority_elm = num\n                count = 1\n                            \n        return current_majority_elm\n    \n    def check_majority(self, A, majority_elm):\n        count = 0\n        for num in A:\n            if num == majority_elm:\n                count += 1\n                \n        return count > len(A)//2\n    \n    def majorityElement(self, A, N=0):\n        #Your code here\n        \n        candidate = self.find_candidate(A)        \n        \n        if self.check_majority(A, candidate):\n            return candidate\n        else:\n            return -1\n\n# print(Solution().majorityElement([1, 2, 2]))\nprint(Solution().majorityElement(string_to_list(\"3 1 3 3 2\")))",
   "execution_count": null,
   "outputs": [
    {
     "name": "stdout",
     "text": "3\n",
     "output_type": "stream"
    }
   ]
  },
  {
   "cell_type": "code",
   "metadata": {
    "cell_id": "00018-f3fffa18-0eea-4e37-9190-29c8ca8ece87",
    "deepnote_to_be_reexecuted": false,
    "source_hash": "be014d64",
    "execution_start": 1646571643947,
    "execution_millis": 21,
    "deepnote_cell_type": "code",
    "deepnote_cell_height": 1085
   },
   "source": "#9\n# Peak Element -- value greater than it's neighbours\n# return any one\n\n# Divide and Conquer -- if middle element is not the peak element,\n# the subarray with value > middle_element will always have a peak elm\n\nclass Solution:\n    \n    def linear_search(self, arr, n):\n        # O(n) time, O(1) space\n        for i, num in enumerate(arr):\n            # array boundary cases\n            if (i == 0):\n                if (arr[i] > arr[i + 1]):\n                    return i + 1\n            elif (i == n - 1):\n                if (arr[i] > arr[i - 1]):\n                    return i + 1\n            \n            else:\n                if (arr[i] > arr[i - 1]) & (arr[i] > arr[i + 1]):\n                    return i + 1\n\n                \n    def div_n_conq(self, arr, start, end):\n        # O(logn) time, O(1) space\n        n = end - start + 1\n        \n        if n == 1:\n            return start\n        if arr[0] > arr[1]:\n            return start\n        if arr[-1] > arr[-2]:\n            return end\n        \n        mid = (n-1)//2\n        if (arr[mid] > arr[mid - 1]) & (arr[mid] > arr[mid + 1]):\n            return start + mid\n        elif (arr[mid - 1] > arr[mid + 1]):\n            return self.div_n_conq(arr[:mid], start, mid - 1)\n        elif (arr[mid + 1] >= arr[mid - 1]):\n            return self.div_n_conq(arr[mid + 1:], start + mid + 1, end)\n        else:\n            raise(\"#NA\")\n    \n    def peakElement(self, arr, n):\n        return self.div_n_conq(arr, 0, n-1)\n\n\nprint(Solution().peakElement([ 1, 8, 9, 4, 20, 1, 0], 7))\nprint(Solution().peakElement(string_to_list(\"17 19 9 5 3 6 17 7 18 16 18 11 3 15 2\"), 15))\nprint(Solution().peakElement([2, 3, 4, 5, 32, 6, 7, 8, 6], 9))",
   "execution_count": null,
   "outputs": [
    {
     "name": "stdout",
     "text": "4\n8\n4\n",
     "output_type": "stream"
    }
   ]
  },
  {
   "cell_type": "code",
   "metadata": {
    "cell_id": "00019-4c3a0163-2d2f-483d-9656-7c7b9096b054",
    "deepnote_to_be_reexecuted": false,
    "source_hash": "a5e96139",
    "execution_start": 1646571644012,
    "execution_millis": 2,
    "deepnote_cell_type": "code",
    "deepnote_cell_height": 1105
   },
   "source": "#10\n# Find transition point\n# Given a sorted array containing only 0s and 1s, find the transition point. \n# Logic: find index of 1 using binary search\n\ndef binary_search(arr, start, end):\n    print(f\"#1 - start:{start}, end:{end}, arr:{arr}\")\n    \n    n = (end - start + 1)\n    if arr[0] == 1:\n        return start\n    \n    if (n == 1) & (arr[0] == 0):\n        return -1\n\n    if arr[-1] == 0:\n        return -1\n    \n    mid = (n - 1)//2\n    print(f\"#2 - mid:{mid}, arr[mid]:{arr[mid]}\")\n    if arr[mid] == 1:\n        if binary_search(arr[:mid], start, start + mid - 1) == -1:\n            return start + mid\n        else:\n            return binary_search(arr[:mid], start, start + mid - 1)\n    else:\n        return binary_search(arr[mid+1:], start + mid + 1, end)\n\ndef transitionPoint(arr, n):\n    lb = 0\n    ub = n - 1\n    \n    while (lb <= ub):\n        mid = (lb + ub)//2\n        \n        if arr[mid] == 0:\n            lb = mid + 1\n            \n        if arr[mid] == 1:\n            \n            # if this is the least index of 1\n            if (mid == 0) or (mid > 0 and arr[mid - 1] == 0):\n                return mid\n            ub = mid - 1\n            \n    return -1\n\nprint(transitionPoint([0, 0, 0, 0], 4))\nprint(transitionPoint([0, 1, 1, 1], 4))\nprint(transitionPoint([1, 1, 1, 1], 4))\nprint(transitionPoint([0, 0, 1, 1], 4))\nprint(transitionPoint([0, 0, 0, 0, 1], 5))",
   "execution_count": null,
   "outputs": [
    {
     "name": "stdout",
     "text": "-1\n1\n0\n2\n4\n",
     "output_type": "stream"
    }
   ]
  },
  {
   "cell_type": "code",
   "metadata": {
    "cell_id": "00020-ac342b66-3c48-40cb-82db-71ee3dc33caf",
    "deepnote_to_be_reexecuted": false,
    "source_hash": "310c777f",
    "execution_start": 1646571644013,
    "execution_millis": 43,
    "deepnote_cell_type": "code",
    "deepnote_cell_height": 261
   },
   "source": "#11\n# Invesion Count -- a[i] > a[j] when i < j\n\nclass Solution:\n    #User function Template for python3\n    \n    # arr[]: Input Array\n    # N : Size of the Array arr[]\n    #Function to count inversions in the array.\n    def inversionCount(self, arr, n):\n        pass",
   "execution_count": null,
   "outputs": []
  },
  {
   "cell_type": "code",
   "metadata": {
    "cell_id": "00021-a42d8048-8c36-4779-88a9-70d96dd01b03",
    "deepnote_to_be_reexecuted": false,
    "source_hash": "d330e6f2",
    "execution_start": 1646571644057,
    "execution_millis": 6,
    "deepnote_cell_type": "code",
    "deepnote_cell_height": 1450,
    "deepnote_output_heights": [
     21
    ]
   },
   "source": "#11\n# Invesion Count -- a[i] > a[j] when i < j\n\nclass MergeSort:\n    \"\"\"Sorting Algorithm Merge Sort\n    Time Complexity: O(nlogn)\n    Space Complexity: O(n)\n    \"\"\"\n    def __init__(self):\n        pass\n    \n    def merge(self, A, B):\n        \"\"\"Merge two sorted arrays A and B\n        Time: O(len(A) + len(B))\n        Space: O(len(A) + len(B))\n        \"\"\"\n        C = [0] * (len(A) + len(B))\n        i, j, k = 0, 0, 0\n        swaps = 0\n        \n        while (i < len(A)) & (j < len(B)):\n            if A[i] <= B[j]:\n                C[k] = A[i]\n                i += 1\n                k += 1\n                \n            else:\n                # print(f\"A[i]: {A[i]}, B[j]:{B[j]}\")\n                C[k] = B[j]\n                j += 1\n                k += 1\n                swaps += len(A) - i\n        \n        while i < len(A):\n            C[k] = A[i]\n            i += 1\n            k += 1\n        \n        while j < len(B):\n            C[k] = B[j]\n            j += 1\n            k += 1\n        \n        return C, swaps\n    \n    def two_way_merge_sort(self, P):\n        \"\"\"Iteratively sort array P/ Bottom Up\n        \"\"\"\n        width = 1\n        n = len(P)\n        \n        swaps = 0\n        while (width < n):\n            Q = [0] * n\n            left = 0\n            while (left < n):\n                #right = min((left + width), n - 1)\n                right = left + width\n                Q[left:right+width], _swaps = self.merge(P[left:left + width], P[right:right + width])\n                # print(f\"left:[{left}:{left + width - 1}], right:[{right}:{right + width - 1}]\")\n                left += 2 * width\n                \n                swaps += _swaps\n                \n            #print(Q)\n            P = Q.copy()\n            width *= 2\n            \n        return swaps\n\nt = MergeSort()\n# t.merge([1, 4, 7], [0, 1, 3])\nt.two_way_merge_sort([9, 3, 7, 5, 6, 4, 8, 2, 5])\n# t.two_way_merge_sort([2, 4, 1, 3, 5])\n# t.two_way_merge_sort([2, 3, 4, 5, 6])",
   "execution_count": null,
   "outputs": [
    {
     "output_type": "execute_result",
     "execution_count": 19,
     "data": {
      "text/plain": "22"
     },
     "metadata": {}
    }
   ]
  },
  {
   "cell_type": "code",
   "metadata": {
    "cell_id": "00022-491ac157-bf70-4e0a-826c-65ec2ae45804",
    "deepnote_to_be_reexecuted": false,
    "source_hash": "4a7bedb1",
    "execution_start": 1646571644068,
    "execution_millis": 28,
    "deepnote_cell_type": "code",
    "deepnote_cell_height": 651
   },
   "source": "#12\n# Equilibrium Point \n# Equilibrium Point in an array is a position such that \n# the sum of elements before it is equal to the sum of elements after it.\n\nclass Solution:\n    def equilibriumPoint(self, A, N=0):\n        if len(A) == 1:\n            return 1\n        \n        mid = len(A)//2\n        \n        left_sum = sum(A[:mid])\n        right_sum = sum(A[mid+1:])\n        \n        while (left_sum > right_sum):\n            mid -= 1\n            left_sum = sum(A[:mid])\n            right_sum = sum(A[mid+1:])\n            \n        while (left_sum < right_sum):\n            mid += 1\n            left_sum = sum(A[:mid])\n            right_sum = sum(A[mid+1:])\n        \n        if left_sum == right_sum:\n            return mid + 1\n        \n        return -1\n    \nprint(Solution().equilibriumPoint([1, 3, 2, 2, 6]))",
   "execution_count": null,
   "outputs": [
    {
     "name": "stdout",
     "text": "4\n",
     "output_type": "stream"
    }
   ]
  },
  {
   "cell_type": "code",
   "metadata": {
    "cell_id": "00023-14e7fef0-b2ef-45ab-a72f-41859d01ab0b",
    "deepnote_to_be_reexecuted": false,
    "source_hash": "f0abef63",
    "execution_start": 1646571644114,
    "execution_millis": 18,
    "deepnote_cell_type": "code",
    "deepnote_cell_height": 688
   },
   "source": "#13\n# Trapping Rain Water \n# https://practice.geeksforgeeks.org/problems/trapping-rain-water-1587115621/\n\nclass Solution:\n    def trappingWater(self, arr, n):\n        left, right = [0] * n, [0] * n\n        left_max = arr[0]\n        right_max = arr[n - 1]\n        volume = 0\n        \n        for i in range(n):\n            if arr[i] > left_max:\n                left_max = arr[i]\n            left[i] = left_max\n            \n        for i in range(n - 1, -1, -1):\n            if arr[i] > right_max:\n                right_max = arr[i]\n            right[i] = right_max\n            \n        for i in range(n):\n            volume += max((min(left[i], right[i]) - arr[i]), 0)\n            \n        return volume\n                \n\nprint(Solution().trappingWater(string_to_list(\"8 8 2 4 5 5 1\"), 7))\n# print(Solution().trappingWater([3, 2, 1], 3))\n# print(Solution().trappingWater([7, 4, 0, 9], 4))\nprint(Solution().trappingWater([1,0,3,2,0,4], 6))\n# print(Solution().trappingWater([7,4,0,9], 4))",
   "execution_count": null,
   "outputs": [
    {
     "name": "stdout",
     "text": "4\n5\n",
     "output_type": "stream"
    }
   ]
  },
  {
   "cell_type": "code",
   "metadata": {
    "cell_id": "00024-72914f1f-1faa-4a8e-a028-5f9edda9fbf4",
    "deepnote_to_be_reexecuted": false,
    "source_hash": "bb8cbf7b",
    "execution_start": 1646571644143,
    "execution_millis": 39,
    "deepnote_cell_type": "code",
    "deepnote_cell_height": 921
   },
   "source": "#14\n# Find triplets with zero sum \n# \n\nclass Solution:\n    def two_sum(self, arr, target):\n        hash_map = {}\n        for i, num in enumerate(arr):\n            if (target - num) in hash_map:\n                return [target-num, num]\n            else:\n                hash_map[num] = i\n                \n        return None\n    \n    def findTriplets1(self, arr, n):\n        # Time: O(n^2); Space: O(n)\n        for i, num in enumerate(arr):\n            two_nums = self.two_sum(arr[i + 1:], -1 * num)\n            if two_nums:\n                return [num, two_nums[0], two_nums[1]]\n            \n        return 0\n    \n    def findTriplets(self, arr, n):\n        # Time: O(n^2); Space: O(1)\n        arr = sorted(arr)\n        \n        for i, num in enumerate(arr):\n            target = -1 * num\n            l = i + 1\n            r = n - 1\n            \n            while (l < r):\n                if arr[l] + arr[r] == target:\n                    return [num, arr[l], arr[r]]\n                \n                elif arr[l] + arr[r] > target:\n                    r -= 1\n                    \n                elif arr[l] + arr[r] < target:\n                    l += 1\n\n        return 0\n\nprint(Solution().findTriplets([0, 1, 1, 1, 1], 5))",
   "execution_count": null,
   "outputs": [
    {
     "name": "stdout",
     "text": "0\n",
     "output_type": "stream"
    }
   ]
  },
  {
   "cell_type": "code",
   "metadata": {
    "cell_id": "00025-56f0df22-8698-4680-80e0-678374f0b44a",
    "deepnote_to_be_reexecuted": false,
    "source_hash": "8033264c",
    "execution_start": 1646571644176,
    "execution_millis": 21,
    "deepnote_cell_type": "code",
    "deepnote_cell_height": 471
   },
   "source": "#15\n# Leaders in an array \n# An element of array is leader if it is greater than\n# or equal to all the elements to its right side. \n# The rightmost element is always a leader. \n\nclass Solution:\n    def leaders(self, A, N):\n        # Time: O(n); Space: O(n)\n        current_leader = A[-1]\n        leaders = [current_leader]\n        for i in range(N - 1, -1, -1):\n            if A[i] >= current_leader:\n                leaders.append(A[i])\n                current_leader = A[i]\n                \n        return leaders[::-1]\n\n# print(Solution().leaders([16,17,4,3,5,2], 6))\nprint(Solution().leaders([2, 5, 3, 4, 4, 1, 0], 7))\n# print(Solution().leaders([16,17,4,3,5,2], 6))",
   "execution_count": null,
   "outputs": [
    {
     "name": "stdout",
     "text": "[5, 4, 4, 1, 0, 0]\n",
     "output_type": "stream"
    }
   ]
  },
  {
   "cell_type": "markdown",
   "source": "",
   "metadata": {
    "cell_id": "00026-56dd2068-bd5c-4dff-b501-8a0e9168d23c",
    "deepnote_cell_type": "markdown",
    "deepnote_cell_height": 46
   }
  },
  {
   "cell_type": "code",
   "metadata": {
    "scrolled": true,
    "cell_id": "00027-e2351b85-666e-4dfa-aada-c39fe68a5ec6",
    "deepnote_to_be_reexecuted": false,
    "source_hash": "cc7fd17a",
    "execution_start": 1646571644209,
    "execution_millis": 19,
    "deepnote_cell_type": "code",
    "deepnote_cell_height": 676,
    "deepnote_output_heights": [
     21
    ]
   },
   "source": "#16\n# Maximum product subarray\n# Use Kadane's algorithm -- update max_here, min_here variables on every step\n\nclass Solution:\n    def maxProduct(self, arr, n):\n        result = 1\n        max_here = 1\n        min_here = 1\n        \n        for num in arr:\n            t_max = num * max_here\n            t_min = num * min_here\n            max_here = max(num, t_max, t_min)\n            min_here = min(num, t_max, t_min)\n            \n            if result < max_here:\n                result = max_here\n            \n            if max_here == 0:\n                max_here = 1\n            \n            if min_here == 0:\n                min_here = 1\n            \n        return result\n\n# arr = [6, - 2, -4, 5, -1, 2]\n# arr = [6, -3, -10, 0, 2]\narr = [1, -2, -3, 0, 7, -8, -2]\ns = Solution()\ns.maxProduct(arr, len(arr))",
   "execution_count": null,
   "outputs": [
    {
     "output_type": "execute_result",
     "execution_count": 24,
     "data": {
      "text/plain": "112"
     },
     "metadata": {}
    }
   ]
  },
  {
   "cell_type": "code",
   "metadata": {
    "cell_id": "00028-3fc4c474-c28a-4a09-8bd5-a57375b0a561",
    "deepnote_to_be_reexecuted": false,
    "source_hash": "c9e27dc1",
    "execution_start": 1646571644235,
    "execution_millis": 28,
    "deepnote_cell_type": "code",
    "deepnote_cell_height": 705,
    "deepnote_output_heights": [
     null,
     21
    ]
   },
   "source": "#17 - Easy\n# Binary Search\n# Given a sorted array of size N and an integer K,\n# find the position at which K is present in the array\n# using binary search.\n\n\nclass Solution:\n    def binarysearch(self, arr, n, k):\n        left = 0\n        right = n - 1\n        \n        while (left <= right):\n            mid = (left + right)//2\n            print(left, right, mid)\n            if k == arr[mid]:\n                return mid\n            elif k > arr[mid]:\n                left = mid + 1\n            elif k < arr[mid]:\n                right = mid - 1\n                \n        return -1\n    \nk = 5\narr = [1, 2, 3, 4]\ns = Solution()\ns.binarysearch(arr, len(arr), k)\n",
   "execution_count": null,
   "outputs": [
    {
     "name": "stdout",
     "text": "0 3 1\n2 3 2\n3 3 3\n",
     "output_type": "stream"
    },
    {
     "output_type": "execute_result",
     "execution_count": 25,
     "data": {
      "text/plain": "-1"
     },
     "metadata": {}
    }
   ]
  },
  {
   "cell_type": "code",
   "metadata": {
    "cell_id": "00029-853b72d1-9932-4d5b-bc3f-dce2950fabba",
    "deepnote_to_be_reexecuted": false,
    "source_hash": "ec3cb400",
    "execution_start": 1646571644274,
    "execution_millis": 13,
    "deepnote_cell_type": "code",
    "deepnote_cell_height": 550,
    "deepnote_output_heights": [
     21
    ]
   },
   "source": "#18 - Easy\n# Count pairs with given sum\n# Find # of pairs whose sum is equal to K\n\nclass Solution:\n    def getPairsCount(self, arr, n, k):\n        num_map = {}\n        pairs = 0\n        for i, num in enumerate(arr):\n            if (k - num) in num_map:\n                pairs += len(num_map[k - num])\n            \n            if num not in num_map:\n                num_map[num] = [i]\n            else:\n                num_map[num].append(i)\n                \n        return pairs\n\nk = 2\narr = [1, 1, 1, 1]\n# k = 6\n# arr = [1, 2, 5, 7, 1]\ns = Solution()\ns.getPairsCount(arr, len(arr), k)",
   "execution_count": null,
   "outputs": [
    {
     "output_type": "execute_result",
     "execution_count": 26,
     "data": {
      "text/plain": "6"
     },
     "metadata": {}
    }
   ]
  },
  {
   "cell_type": "code",
   "metadata": {
    "cell_id": "00048-0ca60335-9490-46ff-874b-42475bbf1892",
    "deepnote_to_be_reexecuted": false,
    "source_hash": "b623e53d",
    "execution_start": 1646571644336,
    "execution_millis": 0,
    "deepnote_cell_type": "code",
    "deepnote_cell_height": 81
   },
   "source": "",
   "execution_count": null,
   "outputs": []
  },
  {
   "cell_type": "markdown",
   "source": "<a style='text-decoration:none;line-height:16px;display:flex;color:#5B5B62;padding:10px;justify-content:end;' href='https://deepnote.com?utm_source=created-in-deepnote-cell&projectId=8e097a29-da9c-4735-a72e-d65153b8d3ef' target=\"_blank\">\n<img alt='Created in deepnote.com' style='display:inline;max-height:16px;margin:0px;margin-right:7.5px;' src='data:image/svg+xml;base64,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' > </img>\nCreated in <span style='font-weight:600;margin-left:4px;'>Deepnote</span></a>",
   "metadata": {
    "tags": [],
    "created_in_deepnote_cell": true,
    "deepnote_cell_type": "markdown"
   }
  }
 ],
 "nbformat": 4,
 "nbformat_minor": 4,
 "metadata": {
  "kernelspec": {
   "display_name": "Python 3",
   "language": "python",
   "name": "python3"
  },
  "language_info": {
   "codemirror_mode": {
    "name": "ipython",
    "version": 3
   },
   "file_extension": ".py",
   "mimetype": "text/x-python",
   "name": "python",
   "nbconvert_exporter": "python",
   "pygments_lexer": "ipython3",
   "version": "3.6.12"
  },
  "deepnote_notebook_id": "d6933372-f941-4f2e-a38a-ff05a3d664d5",
  "deepnote": {},
  "deepnote_execution_queue": []
 }
}